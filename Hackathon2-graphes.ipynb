{
 "cells": [
  {
   "cell_type": "code",
   "execution_count": 2,
   "metadata": {},
   "outputs": [],
   "source": [
    "import pandas as pd\n",
    "import numpy as np\n",
    "from plotly.subplots import make_subplots\n",
    "import plotly.graph_objects as go\n",
    "import plotly.express as px"
   ]
  },
  {
   "cell_type": "code",
   "execution_count": 24,
   "metadata": {},
   "outputs": [],
   "source": [
    "df_complet = pd.read_csv('csv_hackathon_2.csv',low_memory=False)"
   ]
  },
  {
   "cell_type": "code",
   "execution_count": 21,
   "metadata": {},
   "outputs": [],
   "source": [
    "# Pivot table\n",
    "df_family_fee_avg=pd.pivot_table(data=df_complet, index='family', values=['shipping_fees','ratio'], aggfunc='mean').reset_index()\n",
    "df_category_fee_avg=pd.pivot_table(data=df_complet, index='category', values=['shipping_fees','ratio'], aggfunc='mean').reset_index()"
   ]
  },
  {
   "cell_type": "code",
   "execution_count": 22,
   "metadata": {},
   "outputs": [
    {
     "data": {
      "application/vnd.plotly.v1+json": {
       "config": {
        "plotlyServerURL": "https://plot.ly"
       },
       "data": [
        {
         "mode": "lines",
         "name": "Avg. shipping_fees",
         "type": "scatter",
         "x": [
          "Animalerie",
          "Construction matériaux",
          "Cuisine",
          "Electricité",
          "Jardin piscine",
          "Luminaire",
          "Mobilier d'intérieur",
          "Outillage",
          "Plomberie chauffage",
          "Quincaillerie",
          "Revêtement sol et mur",
          "Salle de bain, WC"
         ],
         "xaxis": "x",
         "y": [
          3.7162133975130365,
          13.175127345844505,
          3.181028488652825,
          5.415818067950525,
          4.865191359593393,
          3.4580591890124266,
          4.768417333333333,
          5.006411209916465,
          5.81626313092493,
          5.555128050617657,
          6.920614304519526,
          4.967481992797119
         ],
         "yaxis": "y"
        },
        {
         "mode": "lines",
         "name": "Avg. Ratio SF on Total",
         "type": "scatter",
         "x": [
          "Animalerie",
          "Construction matériaux",
          "Cuisine",
          "Electricité",
          "Jardin piscine",
          "Luminaire",
          "Mobilier d'intérieur",
          "Outillage",
          "Plomberie chauffage",
          "Quincaillerie",
          "Revêtement sol et mur",
          "Salle de bain, WC"
         ],
         "xaxis": "x",
         "y": [
          7.6809626955475325,
          12.489678284182304,
          5.389246740704973,
          12.859423829653984,
          8.984385768742058,
          8.782467298888163,
          4.1201213333333335,
          8.74265696577742,
          9.958380732769664,
          18.3882178366978,
          13.918622202720492,
          5.861517106842737
         ],
         "yaxis": "y"
        }
       ],
       "layout": {
        "template": {
         "data": {
          "bar": [
           {
            "error_x": {
             "color": "#2a3f5f"
            },
            "error_y": {
             "color": "#2a3f5f"
            },
            "marker": {
             "line": {
              "color": "#E5ECF6",
              "width": 0.5
             },
             "pattern": {
              "fillmode": "overlay",
              "size": 10,
              "solidity": 0.2
             }
            },
            "type": "bar"
           }
          ],
          "barpolar": [
           {
            "marker": {
             "line": {
              "color": "#E5ECF6",
              "width": 0.5
             },
             "pattern": {
              "fillmode": "overlay",
              "size": 10,
              "solidity": 0.2
             }
            },
            "type": "barpolar"
           }
          ],
          "carpet": [
           {
            "aaxis": {
             "endlinecolor": "#2a3f5f",
             "gridcolor": "white",
             "linecolor": "white",
             "minorgridcolor": "white",
             "startlinecolor": "#2a3f5f"
            },
            "baxis": {
             "endlinecolor": "#2a3f5f",
             "gridcolor": "white",
             "linecolor": "white",
             "minorgridcolor": "white",
             "startlinecolor": "#2a3f5f"
            },
            "type": "carpet"
           }
          ],
          "choropleth": [
           {
            "colorbar": {
             "outlinewidth": 0,
             "ticks": ""
            },
            "type": "choropleth"
           }
          ],
          "contour": [
           {
            "colorbar": {
             "outlinewidth": 0,
             "ticks": ""
            },
            "colorscale": [
             [
              0,
              "#0d0887"
             ],
             [
              0.1111111111111111,
              "#46039f"
             ],
             [
              0.2222222222222222,
              "#7201a8"
             ],
             [
              0.3333333333333333,
              "#9c179e"
             ],
             [
              0.4444444444444444,
              "#bd3786"
             ],
             [
              0.5555555555555556,
              "#d8576b"
             ],
             [
              0.6666666666666666,
              "#ed7953"
             ],
             [
              0.7777777777777778,
              "#fb9f3a"
             ],
             [
              0.8888888888888888,
              "#fdca26"
             ],
             [
              1,
              "#f0f921"
             ]
            ],
            "type": "contour"
           }
          ],
          "contourcarpet": [
           {
            "colorbar": {
             "outlinewidth": 0,
             "ticks": ""
            },
            "type": "contourcarpet"
           }
          ],
          "heatmap": [
           {
            "colorbar": {
             "outlinewidth": 0,
             "ticks": ""
            },
            "colorscale": [
             [
              0,
              "#0d0887"
             ],
             [
              0.1111111111111111,
              "#46039f"
             ],
             [
              0.2222222222222222,
              "#7201a8"
             ],
             [
              0.3333333333333333,
              "#9c179e"
             ],
             [
              0.4444444444444444,
              "#bd3786"
             ],
             [
              0.5555555555555556,
              "#d8576b"
             ],
             [
              0.6666666666666666,
              "#ed7953"
             ],
             [
              0.7777777777777778,
              "#fb9f3a"
             ],
             [
              0.8888888888888888,
              "#fdca26"
             ],
             [
              1,
              "#f0f921"
             ]
            ],
            "type": "heatmap"
           }
          ],
          "heatmapgl": [
           {
            "colorbar": {
             "outlinewidth": 0,
             "ticks": ""
            },
            "colorscale": [
             [
              0,
              "#0d0887"
             ],
             [
              0.1111111111111111,
              "#46039f"
             ],
             [
              0.2222222222222222,
              "#7201a8"
             ],
             [
              0.3333333333333333,
              "#9c179e"
             ],
             [
              0.4444444444444444,
              "#bd3786"
             ],
             [
              0.5555555555555556,
              "#d8576b"
             ],
             [
              0.6666666666666666,
              "#ed7953"
             ],
             [
              0.7777777777777778,
              "#fb9f3a"
             ],
             [
              0.8888888888888888,
              "#fdca26"
             ],
             [
              1,
              "#f0f921"
             ]
            ],
            "type": "heatmapgl"
           }
          ],
          "histogram": [
           {
            "marker": {
             "pattern": {
              "fillmode": "overlay",
              "size": 10,
              "solidity": 0.2
             }
            },
            "type": "histogram"
           }
          ],
          "histogram2d": [
           {
            "colorbar": {
             "outlinewidth": 0,
             "ticks": ""
            },
            "colorscale": [
             [
              0,
              "#0d0887"
             ],
             [
              0.1111111111111111,
              "#46039f"
             ],
             [
              0.2222222222222222,
              "#7201a8"
             ],
             [
              0.3333333333333333,
              "#9c179e"
             ],
             [
              0.4444444444444444,
              "#bd3786"
             ],
             [
              0.5555555555555556,
              "#d8576b"
             ],
             [
              0.6666666666666666,
              "#ed7953"
             ],
             [
              0.7777777777777778,
              "#fb9f3a"
             ],
             [
              0.8888888888888888,
              "#fdca26"
             ],
             [
              1,
              "#f0f921"
             ]
            ],
            "type": "histogram2d"
           }
          ],
          "histogram2dcontour": [
           {
            "colorbar": {
             "outlinewidth": 0,
             "ticks": ""
            },
            "colorscale": [
             [
              0,
              "#0d0887"
             ],
             [
              0.1111111111111111,
              "#46039f"
             ],
             [
              0.2222222222222222,
              "#7201a8"
             ],
             [
              0.3333333333333333,
              "#9c179e"
             ],
             [
              0.4444444444444444,
              "#bd3786"
             ],
             [
              0.5555555555555556,
              "#d8576b"
             ],
             [
              0.6666666666666666,
              "#ed7953"
             ],
             [
              0.7777777777777778,
              "#fb9f3a"
             ],
             [
              0.8888888888888888,
              "#fdca26"
             ],
             [
              1,
              "#f0f921"
             ]
            ],
            "type": "histogram2dcontour"
           }
          ],
          "mesh3d": [
           {
            "colorbar": {
             "outlinewidth": 0,
             "ticks": ""
            },
            "type": "mesh3d"
           }
          ],
          "parcoords": [
           {
            "line": {
             "colorbar": {
              "outlinewidth": 0,
              "ticks": ""
             }
            },
            "type": "parcoords"
           }
          ],
          "pie": [
           {
            "automargin": true,
            "type": "pie"
           }
          ],
          "scatter": [
           {
            "marker": {
             "colorbar": {
              "outlinewidth": 0,
              "ticks": ""
             }
            },
            "type": "scatter"
           }
          ],
          "scatter3d": [
           {
            "line": {
             "colorbar": {
              "outlinewidth": 0,
              "ticks": ""
             }
            },
            "marker": {
             "colorbar": {
              "outlinewidth": 0,
              "ticks": ""
             }
            },
            "type": "scatter3d"
           }
          ],
          "scattercarpet": [
           {
            "marker": {
             "colorbar": {
              "outlinewidth": 0,
              "ticks": ""
             }
            },
            "type": "scattercarpet"
           }
          ],
          "scattergeo": [
           {
            "marker": {
             "colorbar": {
              "outlinewidth": 0,
              "ticks": ""
             }
            },
            "type": "scattergeo"
           }
          ],
          "scattergl": [
           {
            "marker": {
             "colorbar": {
              "outlinewidth": 0,
              "ticks": ""
             }
            },
            "type": "scattergl"
           }
          ],
          "scattermapbox": [
           {
            "marker": {
             "colorbar": {
              "outlinewidth": 0,
              "ticks": ""
             }
            },
            "type": "scattermapbox"
           }
          ],
          "scatterpolar": [
           {
            "marker": {
             "colorbar": {
              "outlinewidth": 0,
              "ticks": ""
             }
            },
            "type": "scatterpolar"
           }
          ],
          "scatterpolargl": [
           {
            "marker": {
             "colorbar": {
              "outlinewidth": 0,
              "ticks": ""
             }
            },
            "type": "scatterpolargl"
           }
          ],
          "scatterternary": [
           {
            "marker": {
             "colorbar": {
              "outlinewidth": 0,
              "ticks": ""
             }
            },
            "type": "scatterternary"
           }
          ],
          "surface": [
           {
            "colorbar": {
             "outlinewidth": 0,
             "ticks": ""
            },
            "colorscale": [
             [
              0,
              "#0d0887"
             ],
             [
              0.1111111111111111,
              "#46039f"
             ],
             [
              0.2222222222222222,
              "#7201a8"
             ],
             [
              0.3333333333333333,
              "#9c179e"
             ],
             [
              0.4444444444444444,
              "#bd3786"
             ],
             [
              0.5555555555555556,
              "#d8576b"
             ],
             [
              0.6666666666666666,
              "#ed7953"
             ],
             [
              0.7777777777777778,
              "#fb9f3a"
             ],
             [
              0.8888888888888888,
              "#fdca26"
             ],
             [
              1,
              "#f0f921"
             ]
            ],
            "type": "surface"
           }
          ],
          "table": [
           {
            "cells": {
             "fill": {
              "color": "#EBF0F8"
             },
             "line": {
              "color": "white"
             }
            },
            "header": {
             "fill": {
              "color": "#C8D4E3"
             },
             "line": {
              "color": "white"
             }
            },
            "type": "table"
           }
          ]
         },
         "layout": {
          "annotationdefaults": {
           "arrowcolor": "#2a3f5f",
           "arrowhead": 0,
           "arrowwidth": 1
          },
          "autotypenumbers": "strict",
          "coloraxis": {
           "colorbar": {
            "outlinewidth": 0,
            "ticks": ""
           }
          },
          "colorscale": {
           "diverging": [
            [
             0,
             "#8e0152"
            ],
            [
             0.1,
             "#c51b7d"
            ],
            [
             0.2,
             "#de77ae"
            ],
            [
             0.3,
             "#f1b6da"
            ],
            [
             0.4,
             "#fde0ef"
            ],
            [
             0.5,
             "#f7f7f7"
            ],
            [
             0.6,
             "#e6f5d0"
            ],
            [
             0.7,
             "#b8e186"
            ],
            [
             0.8,
             "#7fbc41"
            ],
            [
             0.9,
             "#4d9221"
            ],
            [
             1,
             "#276419"
            ]
           ],
           "sequential": [
            [
             0,
             "#0d0887"
            ],
            [
             0.1111111111111111,
             "#46039f"
            ],
            [
             0.2222222222222222,
             "#7201a8"
            ],
            [
             0.3333333333333333,
             "#9c179e"
            ],
            [
             0.4444444444444444,
             "#bd3786"
            ],
            [
             0.5555555555555556,
             "#d8576b"
            ],
            [
             0.6666666666666666,
             "#ed7953"
            ],
            [
             0.7777777777777778,
             "#fb9f3a"
            ],
            [
             0.8888888888888888,
             "#fdca26"
            ],
            [
             1,
             "#f0f921"
            ]
           ],
           "sequentialminus": [
            [
             0,
             "#0d0887"
            ],
            [
             0.1111111111111111,
             "#46039f"
            ],
            [
             0.2222222222222222,
             "#7201a8"
            ],
            [
             0.3333333333333333,
             "#9c179e"
            ],
            [
             0.4444444444444444,
             "#bd3786"
            ],
            [
             0.5555555555555556,
             "#d8576b"
            ],
            [
             0.6666666666666666,
             "#ed7953"
            ],
            [
             0.7777777777777778,
             "#fb9f3a"
            ],
            [
             0.8888888888888888,
             "#fdca26"
            ],
            [
             1,
             "#f0f921"
            ]
           ]
          },
          "colorway": [
           "#636efa",
           "#EF553B",
           "#00cc96",
           "#ab63fa",
           "#FFA15A",
           "#19d3f3",
           "#FF6692",
           "#B6E880",
           "#FF97FF",
           "#FECB52"
          ],
          "font": {
           "color": "#2a3f5f"
          },
          "geo": {
           "bgcolor": "white",
           "lakecolor": "white",
           "landcolor": "#E5ECF6",
           "showlakes": true,
           "showland": true,
           "subunitcolor": "white"
          },
          "hoverlabel": {
           "align": "left"
          },
          "hovermode": "closest",
          "mapbox": {
           "style": "light"
          },
          "paper_bgcolor": "white",
          "plot_bgcolor": "#E5ECF6",
          "polar": {
           "angularaxis": {
            "gridcolor": "white",
            "linecolor": "white",
            "ticks": ""
           },
           "bgcolor": "#E5ECF6",
           "radialaxis": {
            "gridcolor": "white",
            "linecolor": "white",
            "ticks": ""
           }
          },
          "scene": {
           "xaxis": {
            "backgroundcolor": "#E5ECF6",
            "gridcolor": "white",
            "gridwidth": 2,
            "linecolor": "white",
            "showbackground": true,
            "ticks": "",
            "zerolinecolor": "white"
           },
           "yaxis": {
            "backgroundcolor": "#E5ECF6",
            "gridcolor": "white",
            "gridwidth": 2,
            "linecolor": "white",
            "showbackground": true,
            "ticks": "",
            "zerolinecolor": "white"
           },
           "zaxis": {
            "backgroundcolor": "#E5ECF6",
            "gridcolor": "white",
            "gridwidth": 2,
            "linecolor": "white",
            "showbackground": true,
            "ticks": "",
            "zerolinecolor": "white"
           }
          },
          "shapedefaults": {
           "line": {
            "color": "#2a3f5f"
           }
          },
          "ternary": {
           "aaxis": {
            "gridcolor": "white",
            "linecolor": "white",
            "ticks": ""
           },
           "baxis": {
            "gridcolor": "white",
            "linecolor": "white",
            "ticks": ""
           },
           "bgcolor": "#E5ECF6",
           "caxis": {
            "gridcolor": "white",
            "linecolor": "white",
            "ticks": ""
           }
          },
          "title": {
           "x": 0.05
          },
          "xaxis": {
           "automargin": true,
           "gridcolor": "white",
           "linecolor": "white",
           "ticks": "",
           "title": {
            "standoff": 15
           },
           "zerolinecolor": "white",
           "zerolinewidth": 2
          },
          "yaxis": {
           "automargin": true,
           "gridcolor": "white",
           "linecolor": "white",
           "ticks": "",
           "title": {
            "standoff": 15
           },
           "zerolinecolor": "white",
           "zerolinewidth": 2
          }
         }
        },
        "title": {
         "text": "Shipping fees vs family"
        },
        "xaxis": {
         "anchor": "y",
         "domain": [
          0,
          1
         ],
         "title": {
          "text": "family"
         }
        },
        "yaxis": {
         "anchor": "x",
         "domain": [
          0,
          1
         ]
        }
       }
      }
     },
     "metadata": {},
     "output_type": "display_data"
    }
   ],
   "source": [
    "fig = make_subplots(rows=1, cols=1)\n",
    "\n",
    "fig.add_trace(go.Scatter(x=df_family_fee_avg['family'], y=df_family_fee_avg['shipping_fees'], mode='lines', name= 'Avg. Shipping Fees'), row=1, col=1)\n",
    "fig.add_trace(go.Scatter(x=df_family_fee_avg['family'], y=df_family_fee_avg['ratio'], mode='lines', name= 'Avg. Ratio of SF on Total'), row=1, col=1)\n",
    "fig.update_layout(title='Shipping Fees vs Family',\n",
    "                   xaxis_title='Family')\n",
    "fig.show()\n"
   ]
  },
  {
   "cell_type": "code",
   "execution_count": 23,
   "metadata": {},
   "outputs": [
    {
     "data": {
      "application/vnd.plotly.v1+json": {
       "config": {
        "plotlyServerURL": "https://plot.ly"
       },
       "data": [
        {
         "mode": "lines",
         "name": "Avg. shipping_fees",
         "type": "scatter",
         "x": [
          "...",
          "Abri, garage et rangement extérieur",
          "Accessoire de salle de bain",
          "Accessoire et consommables pour outillage électroportatif",
          "Alimentation",
          "Ampoule",
          "Animaux de la ferme",
          "Apiculture",
          "Aquarium et aquariophilie",
          "Baignoire et accessoires",
          "Barbecue et plancha",
          "Bassin et décoration de jardin",
          "Carrelage, béton ciré, et revêtement décoratif",
          "Charpente, toiture, bardage et gouttière",
          "Chat",
          "Chauffage et climatisation",
          "Cheval et équitation",
          "Chien",
          "Comptage",
          "Cuisine complète et kitchenette",
          "Cuisine et accessoire",
          "Domotique, automatismes et sécurité",
          "Douche ",
          "Douche et accessoires",
          "Douche et baignoire",
          "Décoration",
          "Eclairage d'extérieur",
          "Eclairage d'intérieur",
          "Electroménager",
          "Emballage et protection",
          "Equipement de protection EPI",
          "Equipement utilitaire",
          "Evier et robinet",
          "Fixation technique : vis, boulons, clous",
          "Gaines et câbles électriques",
          "Gaz",
          "Interrupteurs et prises",
          "Lampe portative",
          "Lavabos",
          "Lavabos et vasque ",
          "Levage et travail en hauteur",
          "Linge de maison",
          "Literie",
          "Machines d'atelier",
          "Manutention et levage",
          "Matériel d'arrosage et récupérateurs d'eau",
          "Matériel et aménagement de l'atelier",
          "Maçonnerie",
          "Menuiserie",
          "Meuble bébé",
          "Meuble d'entrée",
          "Meuble de bureau",
          "Meuble de chambre",
          "Meuble de cuisine",
          "Meuble de salle de bain",
          "Meuble de salle à manger ",
          "Meuble de salon",
          "Meuble enfant",
          "Miroir de salle de bain",
          "Mobilier de jardin et jeux",
          "Moulure et dalle de plafond",
          "Oiseau",
          "Outil et consommable du plombier",
          "Outil et matériel de jardinage manuel",
          "Outillage spécialisé",
          "Outillage à main",
          "Outillage électroportatif",
          "Outils de jardin motorisés",
          "Outils de pose et mise en œuvre",
          "Papier peint, toile de verre et frise",
          "Parquet, stratifié, sol souple, moquette",
          "Peinture extérieure",
          "Peinture intérieure",
          "Piscine",
          "Pièces détachées",
          "Plan de travail et crédence",
          "Plan de travail, crédence et fond de hotte",
          "Plante et soin des végétaux",
          "Plomberie, tube, raccord",
          "Portail, grillage et occultation",
          "Pot de fleur, jardinière et bac",
          "Poubelle, tabouret et accessoires de cuisine",
          "Production d'énergie solaire et éolienne",
          "Production eau chaude sanitaire",
          "Produit d'entretien et de restauration",
          "Préparation des supports",
          "Quincaillerie de porte et de fenêtre",
          "Quincaillerie du meuble",
          "Quincaillerie extérieure",
          "Reptiles et insectes pour terrarium",
          "Robinetterie",
          "Rongeur",
          "Réseaux",
          "Sauna",
          "Serre de jardin et accessoires de culture",
          "Spa",
          "Sécurité et serrurerie",
          "Tableau électrique",
          "Terrasse et revêtement de sol extérieur",
          "Toiture, gouttière et bardage",
          "Traitement de l'air",
          "Traitement de l'eau",
          "Vêtement et accessoires du jardinier",
          "WC et accessoire",
          "WC et accessoires",
          "Équipement lampe"
         ],
         "xaxis": "x",
         "y": [
          3.1831860036832413,
          4.543815580286169,
          2.5244759450171825,
          5.362679288582902,
          4.0032734082397,
          4.841149732620321,
          6.973445692883895,
          6.1770000000000005,
          3.836470588235294,
          5.715,
          3.72507614213198,
          6.1892662473794555,
          28.77108695652174,
          6.607142857142857,
          2.968121546961326,
          5.659103538094205,
          2.7303125,
          2.719825641025641,
          4.084117647058823,
          21.268947368421053,
          6.119000000000001,
          4.797838044308633,
          5.117754010695187,
          5.815520833333333,
          4.594047097480832,
          3.4903311529026984,
          3.7253846153846153,
          2.839350931677019,
          4.148090909090909,
          5.580873786407768,
          5.520668485675307,
          5.335717131474104,
          2.7136572622779522,
          7.029646302250804,
          7.256214285714286,
          6.5676106194690265,
          6.367638724911453,
          3.8970980392156864,
          5.919004975124378,
          6.71603448275862,
          8.52299107142857,
          3.4513461538461536,
          4.040521541950113,
          5.974617968094039,
          7.358553459119497,
          6.156616362192216,
          5.186331894124272,
          9.934214285714285,
          12.255517857142857,
          1.1140425531914893,
          3.4580625476735314,
          2.9540547588005217,
          4.554633956386293,
          3.0487344913151366,
          5.490424799081516,
          6.906842316975061,
          5.938158691701998,
          4.612484472049689,
          2.3526119402985075,
          2.777587472473697,
          16.270545454545456,
          2.7071134020618555,
          5.798846153846155,
          4.682186948853615,
          5.879481193255512,
          4.753675949367088,
          3.51081992104464,
          5.1381068737154605,
          6.0012209302325585,
          3.656941747572816,
          4.138313253012049,
          5.163517241379311,
          5.166872427983539,
          5.748084947839047,
          5.397399577167019,
          7.934333333333333,
          4.406748466257668,
          4.209764621968616,
          7.850793296089385,
          7.683144278606965,
          5.319597156398104,
          1.5914126394052046,
          4.7971647509578546,
          5.811498771498772,
          5.301453320500482,
          8.965,
          5.162623456790123,
          4.8985353095030515,
          6.780211416490486,
          6.400526315789474,
          4.236977911646586,
          6.5986328125,
          5.715000000000001,
          4.292790697674419,
          4.189679334916865,
          5.7103947368421055,
          5.218800521512386,
          8.07395251396648,
          16.988473053892214,
          21.107945619335347,
          6.0311823647294585,
          6.931374045801527,
          4.417993421052631,
          6.895083636363636,
          6.63611111111111,
          5.9318
         ],
         "yaxis": "y"
        },
        {
         "mode": "lines",
         "name": "Avg. Ratio SF on Total",
         "type": "scatter",
         "x": [
          "...",
          "Abri, garage et rangement extérieur",
          "Accessoire de salle de bain",
          "Accessoire et consommables pour outillage électroportatif",
          "Alimentation",
          "Ampoule",
          "Animaux de la ferme",
          "Apiculture",
          "Aquarium et aquariophilie",
          "Baignoire et accessoires",
          "Barbecue et plancha",
          "Bassin et décoration de jardin",
          "Carrelage, béton ciré, et revêtement décoratif",
          "Charpente, toiture, bardage et gouttière",
          "Chat",
          "Chauffage et climatisation",
          "Cheval et équitation",
          "Chien",
          "Comptage",
          "Cuisine complète et kitchenette",
          "Cuisine et accessoire",
          "Domotique, automatismes et sécurité",
          "Douche ",
          "Douche et accessoires",
          "Douche et baignoire",
          "Décoration",
          "Eclairage d'extérieur",
          "Eclairage d'intérieur",
          "Electroménager",
          "Emballage et protection",
          "Equipement de protection EPI",
          "Equipement utilitaire",
          "Evier et robinet",
          "Fixation technique : vis, boulons, clous",
          "Gaines et câbles électriques",
          "Gaz",
          "Interrupteurs et prises",
          "Lampe portative",
          "Lavabos",
          "Lavabos et vasque ",
          "Levage et travail en hauteur",
          "Linge de maison",
          "Literie",
          "Machines d'atelier",
          "Manutention et levage",
          "Matériel d'arrosage et récupérateurs d'eau",
          "Matériel et aménagement de l'atelier",
          "Maçonnerie",
          "Menuiserie",
          "Meuble bébé",
          "Meuble d'entrée",
          "Meuble de bureau",
          "Meuble de chambre",
          "Meuble de cuisine",
          "Meuble de salle de bain",
          "Meuble de salle à manger ",
          "Meuble de salon",
          "Meuble enfant",
          "Miroir de salle de bain",
          "Mobilier de jardin et jeux",
          "Moulure et dalle de plafond",
          "Oiseau",
          "Outil et consommable du plombier",
          "Outil et matériel de jardinage manuel",
          "Outillage spécialisé",
          "Outillage à main",
          "Outillage électroportatif",
          "Outils de jardin motorisés",
          "Outils de pose et mise en œuvre",
          "Papier peint, toile de verre et frise",
          "Parquet, stratifié, sol souple, moquette",
          "Peinture extérieure",
          "Peinture intérieure",
          "Piscine",
          "Pièces détachées",
          "Plan de travail et crédence",
          "Plan de travail, crédence et fond de hotte",
          "Plante et soin des végétaux",
          "Plomberie, tube, raccord",
          "Portail, grillage et occultation",
          "Pot de fleur, jardinière et bac",
          "Poubelle, tabouret et accessoires de cuisine",
          "Production d'énergie solaire et éolienne",
          "Production eau chaude sanitaire",
          "Produit d'entretien et de restauration",
          "Préparation des supports",
          "Quincaillerie de porte et de fenêtre",
          "Quincaillerie du meuble",
          "Quincaillerie extérieure",
          "Reptiles et insectes pour terrarium",
          "Robinetterie",
          "Rongeur",
          "Réseaux",
          "Sauna",
          "Serre de jardin et accessoires de culture",
          "Spa",
          "Sécurité et serrurerie",
          "Tableau électrique",
          "Terrasse et revêtement de sol extérieur",
          "Toiture, gouttière et bardage",
          "Traitement de l'air",
          "Traitement de l'eau",
          "Vêtement et accessoires du jardinier",
          "WC et accessoire",
          "WC et accessoires",
          "Équipement lampe"
         ],
         "xaxis": "x",
         "y": [
          9.518268876611419,
          6.343505564387917,
          5.851022336769759,
          14.545800344234078,
          11.23858426966292,
          20.047526737967914,
          11.008277153558053,
          11.128,
          15.635980392156863,
          2.132307692307692,
          7.650418781725888,
          9.061236897274632,
          22.081159420289854,
          14.996071428571428,
          6.818397790055249,
          7.761595398306924,
          7.8578125,
          6.373610256410257,
          6.924509803921568,
          10.19263157894737,
          33.751999999999995,
          10.885416348357525,
          4.691711229946525,
          4.67,
          4.571489594742607,
          7.6230212591986914,
          7.695321469575201,
          5.723444099378883,
          8.4625,
          15.592815533980582,
          11.863206002728512,
          9.563964143426293,
          5.529341692789969,
          21.78445337620579,
          17.390910714285713,
          19.89920353982301,
          19.42201889020071,
          9.261176470588236,
          7.469452736318408,
          7.2556896551724135,
          7.4474374999999995,
          8.60125,
          3.2183900226757367,
          8.493501259445845,
          16.43811320754717,
          12.309245432883241,
          9.90532569926788,
          14.010964285714286,
          7.305821428571429,
          0.571063829787234,
          3.9713424866514115,
          2.617979139504563,
          3.0229088785046727,
          3.2868238213399503,
          3.0425487944890928,
          3.5783708769107,
          3.7200181708055724,
          3.858385093167702,
          1.4721641791044777,
          2.86202838267678,
          14.67090909090909,
          8.014364261168385,
          22.568076923076923,
          11.245773074661964,
          9.054824902723734,
          10.23812658227848,
          2.189836015791072,
          12.77992920758164,
          13.80171511627907,
          6.486941747572815,
          1.6049397590361447,
          11.795310344827586,
          15.023045267489712,
          10.170506706408345,
          25.216606765327697,
          5.832666666666666,
          5.598773006134969,
          10.104522111269615,
          20.97941899441341,
          9.739621890547264,
          9.487488151658768,
          3.9570631970260224,
          7.035632183908046,
          6.195503685503686,
          15.434523580365736,
          9.682307692307692,
          15.928858024691358,
          16.999075850043592,
          14.176109936575052,
          20.90473684210526,
          8.337781124497992,
          6.27265625,
          4.914285714285714,
          4.115581395348837,
          7.614857482185273,
          6.573552631578947,
          13.141290743155151,
          14.332555865921789,
          12.637125748502994,
          18.801993957703928,
          11.801823647294588,
          13.932748091603054,
          11.380756578947368,
          10.052174545454545,
          6.957222222222222,
          30.082466666666665
         ],
         "yaxis": "y"
        }
       ],
       "layout": {
        "template": {
         "data": {
          "bar": [
           {
            "error_x": {
             "color": "#2a3f5f"
            },
            "error_y": {
             "color": "#2a3f5f"
            },
            "marker": {
             "line": {
              "color": "#E5ECF6",
              "width": 0.5
             },
             "pattern": {
              "fillmode": "overlay",
              "size": 10,
              "solidity": 0.2
             }
            },
            "type": "bar"
           }
          ],
          "barpolar": [
           {
            "marker": {
             "line": {
              "color": "#E5ECF6",
              "width": 0.5
             },
             "pattern": {
              "fillmode": "overlay",
              "size": 10,
              "solidity": 0.2
             }
            },
            "type": "barpolar"
           }
          ],
          "carpet": [
           {
            "aaxis": {
             "endlinecolor": "#2a3f5f",
             "gridcolor": "white",
             "linecolor": "white",
             "minorgridcolor": "white",
             "startlinecolor": "#2a3f5f"
            },
            "baxis": {
             "endlinecolor": "#2a3f5f",
             "gridcolor": "white",
             "linecolor": "white",
             "minorgridcolor": "white",
             "startlinecolor": "#2a3f5f"
            },
            "type": "carpet"
           }
          ],
          "choropleth": [
           {
            "colorbar": {
             "outlinewidth": 0,
             "ticks": ""
            },
            "type": "choropleth"
           }
          ],
          "contour": [
           {
            "colorbar": {
             "outlinewidth": 0,
             "ticks": ""
            },
            "colorscale": [
             [
              0,
              "#0d0887"
             ],
             [
              0.1111111111111111,
              "#46039f"
             ],
             [
              0.2222222222222222,
              "#7201a8"
             ],
             [
              0.3333333333333333,
              "#9c179e"
             ],
             [
              0.4444444444444444,
              "#bd3786"
             ],
             [
              0.5555555555555556,
              "#d8576b"
             ],
             [
              0.6666666666666666,
              "#ed7953"
             ],
             [
              0.7777777777777778,
              "#fb9f3a"
             ],
             [
              0.8888888888888888,
              "#fdca26"
             ],
             [
              1,
              "#f0f921"
             ]
            ],
            "type": "contour"
           }
          ],
          "contourcarpet": [
           {
            "colorbar": {
             "outlinewidth": 0,
             "ticks": ""
            },
            "type": "contourcarpet"
           }
          ],
          "heatmap": [
           {
            "colorbar": {
             "outlinewidth": 0,
             "ticks": ""
            },
            "colorscale": [
             [
              0,
              "#0d0887"
             ],
             [
              0.1111111111111111,
              "#46039f"
             ],
             [
              0.2222222222222222,
              "#7201a8"
             ],
             [
              0.3333333333333333,
              "#9c179e"
             ],
             [
              0.4444444444444444,
              "#bd3786"
             ],
             [
              0.5555555555555556,
              "#d8576b"
             ],
             [
              0.6666666666666666,
              "#ed7953"
             ],
             [
              0.7777777777777778,
              "#fb9f3a"
             ],
             [
              0.8888888888888888,
              "#fdca26"
             ],
             [
              1,
              "#f0f921"
             ]
            ],
            "type": "heatmap"
           }
          ],
          "heatmapgl": [
           {
            "colorbar": {
             "outlinewidth": 0,
             "ticks": ""
            },
            "colorscale": [
             [
              0,
              "#0d0887"
             ],
             [
              0.1111111111111111,
              "#46039f"
             ],
             [
              0.2222222222222222,
              "#7201a8"
             ],
             [
              0.3333333333333333,
              "#9c179e"
             ],
             [
              0.4444444444444444,
              "#bd3786"
             ],
             [
              0.5555555555555556,
              "#d8576b"
             ],
             [
              0.6666666666666666,
              "#ed7953"
             ],
             [
              0.7777777777777778,
              "#fb9f3a"
             ],
             [
              0.8888888888888888,
              "#fdca26"
             ],
             [
              1,
              "#f0f921"
             ]
            ],
            "type": "heatmapgl"
           }
          ],
          "histogram": [
           {
            "marker": {
             "pattern": {
              "fillmode": "overlay",
              "size": 10,
              "solidity": 0.2
             }
            },
            "type": "histogram"
           }
          ],
          "histogram2d": [
           {
            "colorbar": {
             "outlinewidth": 0,
             "ticks": ""
            },
            "colorscale": [
             [
              0,
              "#0d0887"
             ],
             [
              0.1111111111111111,
              "#46039f"
             ],
             [
              0.2222222222222222,
              "#7201a8"
             ],
             [
              0.3333333333333333,
              "#9c179e"
             ],
             [
              0.4444444444444444,
              "#bd3786"
             ],
             [
              0.5555555555555556,
              "#d8576b"
             ],
             [
              0.6666666666666666,
              "#ed7953"
             ],
             [
              0.7777777777777778,
              "#fb9f3a"
             ],
             [
              0.8888888888888888,
              "#fdca26"
             ],
             [
              1,
              "#f0f921"
             ]
            ],
            "type": "histogram2d"
           }
          ],
          "histogram2dcontour": [
           {
            "colorbar": {
             "outlinewidth": 0,
             "ticks": ""
            },
            "colorscale": [
             [
              0,
              "#0d0887"
             ],
             [
              0.1111111111111111,
              "#46039f"
             ],
             [
              0.2222222222222222,
              "#7201a8"
             ],
             [
              0.3333333333333333,
              "#9c179e"
             ],
             [
              0.4444444444444444,
              "#bd3786"
             ],
             [
              0.5555555555555556,
              "#d8576b"
             ],
             [
              0.6666666666666666,
              "#ed7953"
             ],
             [
              0.7777777777777778,
              "#fb9f3a"
             ],
             [
              0.8888888888888888,
              "#fdca26"
             ],
             [
              1,
              "#f0f921"
             ]
            ],
            "type": "histogram2dcontour"
           }
          ],
          "mesh3d": [
           {
            "colorbar": {
             "outlinewidth": 0,
             "ticks": ""
            },
            "type": "mesh3d"
           }
          ],
          "parcoords": [
           {
            "line": {
             "colorbar": {
              "outlinewidth": 0,
              "ticks": ""
             }
            },
            "type": "parcoords"
           }
          ],
          "pie": [
           {
            "automargin": true,
            "type": "pie"
           }
          ],
          "scatter": [
           {
            "marker": {
             "colorbar": {
              "outlinewidth": 0,
              "ticks": ""
             }
            },
            "type": "scatter"
           }
          ],
          "scatter3d": [
           {
            "line": {
             "colorbar": {
              "outlinewidth": 0,
              "ticks": ""
             }
            },
            "marker": {
             "colorbar": {
              "outlinewidth": 0,
              "ticks": ""
             }
            },
            "type": "scatter3d"
           }
          ],
          "scattercarpet": [
           {
            "marker": {
             "colorbar": {
              "outlinewidth": 0,
              "ticks": ""
             }
            },
            "type": "scattercarpet"
           }
          ],
          "scattergeo": [
           {
            "marker": {
             "colorbar": {
              "outlinewidth": 0,
              "ticks": ""
             }
            },
            "type": "scattergeo"
           }
          ],
          "scattergl": [
           {
            "marker": {
             "colorbar": {
              "outlinewidth": 0,
              "ticks": ""
             }
            },
            "type": "scattergl"
           }
          ],
          "scattermapbox": [
           {
            "marker": {
             "colorbar": {
              "outlinewidth": 0,
              "ticks": ""
             }
            },
            "type": "scattermapbox"
           }
          ],
          "scatterpolar": [
           {
            "marker": {
             "colorbar": {
              "outlinewidth": 0,
              "ticks": ""
             }
            },
            "type": "scatterpolar"
           }
          ],
          "scatterpolargl": [
           {
            "marker": {
             "colorbar": {
              "outlinewidth": 0,
              "ticks": ""
             }
            },
            "type": "scatterpolargl"
           }
          ],
          "scatterternary": [
           {
            "marker": {
             "colorbar": {
              "outlinewidth": 0,
              "ticks": ""
             }
            },
            "type": "scatterternary"
           }
          ],
          "surface": [
           {
            "colorbar": {
             "outlinewidth": 0,
             "ticks": ""
            },
            "colorscale": [
             [
              0,
              "#0d0887"
             ],
             [
              0.1111111111111111,
              "#46039f"
             ],
             [
              0.2222222222222222,
              "#7201a8"
             ],
             [
              0.3333333333333333,
              "#9c179e"
             ],
             [
              0.4444444444444444,
              "#bd3786"
             ],
             [
              0.5555555555555556,
              "#d8576b"
             ],
             [
              0.6666666666666666,
              "#ed7953"
             ],
             [
              0.7777777777777778,
              "#fb9f3a"
             ],
             [
              0.8888888888888888,
              "#fdca26"
             ],
             [
              1,
              "#f0f921"
             ]
            ],
            "type": "surface"
           }
          ],
          "table": [
           {
            "cells": {
             "fill": {
              "color": "#EBF0F8"
             },
             "line": {
              "color": "white"
             }
            },
            "header": {
             "fill": {
              "color": "#C8D4E3"
             },
             "line": {
              "color": "white"
             }
            },
            "type": "table"
           }
          ]
         },
         "layout": {
          "annotationdefaults": {
           "arrowcolor": "#2a3f5f",
           "arrowhead": 0,
           "arrowwidth": 1
          },
          "autotypenumbers": "strict",
          "coloraxis": {
           "colorbar": {
            "outlinewidth": 0,
            "ticks": ""
           }
          },
          "colorscale": {
           "diverging": [
            [
             0,
             "#8e0152"
            ],
            [
             0.1,
             "#c51b7d"
            ],
            [
             0.2,
             "#de77ae"
            ],
            [
             0.3,
             "#f1b6da"
            ],
            [
             0.4,
             "#fde0ef"
            ],
            [
             0.5,
             "#f7f7f7"
            ],
            [
             0.6,
             "#e6f5d0"
            ],
            [
             0.7,
             "#b8e186"
            ],
            [
             0.8,
             "#7fbc41"
            ],
            [
             0.9,
             "#4d9221"
            ],
            [
             1,
             "#276419"
            ]
           ],
           "sequential": [
            [
             0,
             "#0d0887"
            ],
            [
             0.1111111111111111,
             "#46039f"
            ],
            [
             0.2222222222222222,
             "#7201a8"
            ],
            [
             0.3333333333333333,
             "#9c179e"
            ],
            [
             0.4444444444444444,
             "#bd3786"
            ],
            [
             0.5555555555555556,
             "#d8576b"
            ],
            [
             0.6666666666666666,
             "#ed7953"
            ],
            [
             0.7777777777777778,
             "#fb9f3a"
            ],
            [
             0.8888888888888888,
             "#fdca26"
            ],
            [
             1,
             "#f0f921"
            ]
           ],
           "sequentialminus": [
            [
             0,
             "#0d0887"
            ],
            [
             0.1111111111111111,
             "#46039f"
            ],
            [
             0.2222222222222222,
             "#7201a8"
            ],
            [
             0.3333333333333333,
             "#9c179e"
            ],
            [
             0.4444444444444444,
             "#bd3786"
            ],
            [
             0.5555555555555556,
             "#d8576b"
            ],
            [
             0.6666666666666666,
             "#ed7953"
            ],
            [
             0.7777777777777778,
             "#fb9f3a"
            ],
            [
             0.8888888888888888,
             "#fdca26"
            ],
            [
             1,
             "#f0f921"
            ]
           ]
          },
          "colorway": [
           "#636efa",
           "#EF553B",
           "#00cc96",
           "#ab63fa",
           "#FFA15A",
           "#19d3f3",
           "#FF6692",
           "#B6E880",
           "#FF97FF",
           "#FECB52"
          ],
          "font": {
           "color": "#2a3f5f"
          },
          "geo": {
           "bgcolor": "white",
           "lakecolor": "white",
           "landcolor": "#E5ECF6",
           "showlakes": true,
           "showland": true,
           "subunitcolor": "white"
          },
          "hoverlabel": {
           "align": "left"
          },
          "hovermode": "closest",
          "mapbox": {
           "style": "light"
          },
          "paper_bgcolor": "white",
          "plot_bgcolor": "#E5ECF6",
          "polar": {
           "angularaxis": {
            "gridcolor": "white",
            "linecolor": "white",
            "ticks": ""
           },
           "bgcolor": "#E5ECF6",
           "radialaxis": {
            "gridcolor": "white",
            "linecolor": "white",
            "ticks": ""
           }
          },
          "scene": {
           "xaxis": {
            "backgroundcolor": "#E5ECF6",
            "gridcolor": "white",
            "gridwidth": 2,
            "linecolor": "white",
            "showbackground": true,
            "ticks": "",
            "zerolinecolor": "white"
           },
           "yaxis": {
            "backgroundcolor": "#E5ECF6",
            "gridcolor": "white",
            "gridwidth": 2,
            "linecolor": "white",
            "showbackground": true,
            "ticks": "",
            "zerolinecolor": "white"
           },
           "zaxis": {
            "backgroundcolor": "#E5ECF6",
            "gridcolor": "white",
            "gridwidth": 2,
            "linecolor": "white",
            "showbackground": true,
            "ticks": "",
            "zerolinecolor": "white"
           }
          },
          "shapedefaults": {
           "line": {
            "color": "#2a3f5f"
           }
          },
          "ternary": {
           "aaxis": {
            "gridcolor": "white",
            "linecolor": "white",
            "ticks": ""
           },
           "baxis": {
            "gridcolor": "white",
            "linecolor": "white",
            "ticks": ""
           },
           "bgcolor": "#E5ECF6",
           "caxis": {
            "gridcolor": "white",
            "linecolor": "white",
            "ticks": ""
           }
          },
          "title": {
           "x": 0.05
          },
          "xaxis": {
           "automargin": true,
           "gridcolor": "white",
           "linecolor": "white",
           "ticks": "",
           "title": {
            "standoff": 15
           },
           "zerolinecolor": "white",
           "zerolinewidth": 2
          },
          "yaxis": {
           "automargin": true,
           "gridcolor": "white",
           "linecolor": "white",
           "ticks": "",
           "title": {
            "standoff": 15
           },
           "zerolinecolor": "white",
           "zerolinewidth": 2
          }
         }
        },
        "title": {
         "text": "Shipping fees vs category"
        },
        "xaxis": {
         "anchor": "y",
         "domain": [
          0,
          1
         ],
         "title": {
          "text": "category"
         }
        },
        "yaxis": {
         "anchor": "x",
         "domain": [
          0,
          1
         ]
        }
       }
      }
     },
     "metadata": {},
     "output_type": "display_data"
    }
   ],
   "source": [
    "fig = make_subplots(rows=1, cols=1)\n",
    "\n",
    "fig.add_trace(go.Scatter(x=df_category_fee_avg['category'], y=df_category_fee_avg['shipping_fees'], mode='lines', name= 'Avg. Shipping Fees'), row=1, col=1)\n",
    "fig.add_trace(go.Scatter(x=df_category_fee_avg['category'], y=df_category_fee_avg['ratio'], mode='lines', name= 'Avg. Ratio of SF on Total'), row=1, col=1)\n",
    "fig.update_layout(title='Shipping Fees vs Category',\n",
    "                   xaxis_title='Category')\n",
    "fig.show()"
   ]
  },
  {
   "cell_type": "code",
   "execution_count": 18,
   "metadata": {},
   "outputs": [],
   "source": [
    "df_family_fee_avg=pd.pivot_table(data=df_complet, index='family', values=['shipping_fees','ratio'], aggfunc='mean').reset_index()\n",
    "df_category_fee_avg=pd.pivot_table(data=df_complet, index='category', values=['shipping_fees','ratio'], aggfunc='mean').reset_index()\n"
   ]
  }
 ],
 "metadata": {
  "interpreter": {
   "hash": "e5b61ad8986825ac51ef21427403aba74138bb3b80e2410cce617640eb85d5b7"
  },
  "kernelspec": {
   "display_name": "Python 3.8.12 64-bit ('laurent_work': conda)",
   "language": "python",
   "name": "python3"
  },
  "language_info": {
   "codemirror_mode": {
    "name": "ipython",
    "version": 3
   },
   "file_extension": ".py",
   "mimetype": "text/x-python",
   "name": "python",
   "nbconvert_exporter": "python",
   "pygments_lexer": "ipython3",
   "version": "3.8.12"
  },
  "orig_nbformat": 4
 },
 "nbformat": 4,
 "nbformat_minor": 2
}
